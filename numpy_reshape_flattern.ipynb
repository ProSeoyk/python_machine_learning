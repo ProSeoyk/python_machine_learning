{
  "nbformat": 4,
  "nbformat_minor": 0,
  "metadata": {
    "colab": {
      "name": "numpy_reshape_flattern.ipynb",
      "provenance": [],
      "authorship_tag": "ABX9TyNywFb7c8CsSHErYwYPJxxq",
      "include_colab_link": true
    },
    "kernelspec": {
      "name": "python3",
      "display_name": "Python 3"
    },
    "language_info": {
      "name": "python"
    }
  },
  "cells": [
    {
      "cell_type": "markdown",
      "metadata": {
        "id": "view-in-github",
        "colab_type": "text"
      },
      "source": [
        "<a href=\"https://colab.research.google.com/github/ProSeoyk/python_machine_learning/blob/main/numpy_reshape_flattern.ipynb\" target=\"_parent\"><img src=\"https://colab.research.google.com/assets/colab-badge.svg\" alt=\"Open In Colab\"/></a>"
      ]
    },
    {
      "cell_type": "code",
      "execution_count": 2,
      "metadata": {
        "colab": {
          "base_uri": "https://localhost:8080/"
        },
        "id": "j3Sn-bvIDkBB",
        "outputId": "c7d26879-f68a-453a-a73e-2c9c04882cea"
      },
      "outputs": [
        {
          "output_type": "execute_result",
          "data": {
            "text/plain": [
              "array([ 0,  1,  2,  3,  4,  5,  6,  7,  8,  9, 10, 11])"
            ]
          },
          "metadata": {},
          "execution_count": 2
        }
      ],
      "source": [
        "import numpy as np\n",
        "arr = np.arange(12)\n",
        "arr"
      ]
    },
    {
      "cell_type": "markdown",
      "source": [
        ""
      ],
      "metadata": {
        "id": "ggsoR5uz4xDt"
      }
    },
    {
      "cell_type": "code",
      "source": [
        "arr.reshape((1,12))"
      ],
      "metadata": {
        "colab": {
          "base_uri": "https://localhost:8080/"
        },
        "id": "EA9zjcQkOSK7",
        "outputId": "9c8e7c8a-030f-44b9-a986-01df42d65810"
      },
      "execution_count": 3,
      "outputs": [
        {
          "output_type": "execute_result",
          "data": {
            "text/plain": [
              "array([[ 0,  1,  2,  3,  4,  5,  6,  7,  8,  9, 10, 11]])"
            ]
          },
          "metadata": {},
          "execution_count": 3
        }
      ]
    },
    {
      "cell_type": "code",
      "source": [
        "arr.reshape((12,1))"
      ],
      "metadata": {
        "colab": {
          "base_uri": "https://localhost:8080/"
        },
        "id": "XSbu7bIvOY2t",
        "outputId": "9501ba80-f0b4-4556-ce95-ceccc20bcd64"
      },
      "execution_count": 11,
      "outputs": [
        {
          "output_type": "execute_result",
          "data": {
            "text/plain": [
              "array([[ 0],\n",
              "       [ 1],\n",
              "       [ 2],\n",
              "       [ 3],\n",
              "       [ 4],\n",
              "       [ 5],\n",
              "       [ 6],\n",
              "       [ 7],\n",
              "       [ 8],\n",
              "       [ 9],\n",
              "       [10],\n",
              "       [11]])"
            ]
          },
          "metadata": {},
          "execution_count": 11
        }
      ]
    },
    {
      "cell_type": "code",
      "source": [
        "arr.reshape((1,1,1,12))"
      ],
      "metadata": {
        "colab": {
          "base_uri": "https://localhost:8080/"
        },
        "id": "b4O_F1eG6vP1",
        "outputId": "9c874539-00ec-4acd-f845-12df09187e0d"
      },
      "execution_count": 12,
      "outputs": [
        {
          "output_type": "execute_result",
          "data": {
            "text/plain": [
              "array([[[[ 0,  1,  2,  3,  4,  5,  6,  7,  8,  9, 10, 11]]]])"
            ]
          },
          "metadata": {},
          "execution_count": 12
        }
      ]
    },
    {
      "cell_type": "code",
      "source": [
        "arr.reshape(12,1,1,1)"
      ],
      "metadata": {
        "colab": {
          "base_uri": "https://localhost:8080/"
        },
        "id": "SxNGUVXy61Wd",
        "outputId": "fd395bfc-8652-4337-861c-2e22f657f176"
      },
      "execution_count": 13,
      "outputs": [
        {
          "output_type": "execute_result",
          "data": {
            "text/plain": [
              "array([[[[ 0]]],\n",
              "\n",
              "\n",
              "       [[[ 1]]],\n",
              "\n",
              "\n",
              "       [[[ 2]]],\n",
              "\n",
              "\n",
              "       [[[ 3]]],\n",
              "\n",
              "\n",
              "       [[[ 4]]],\n",
              "\n",
              "\n",
              "       [[[ 5]]],\n",
              "\n",
              "\n",
              "       [[[ 6]]],\n",
              "\n",
              "\n",
              "       [[[ 7]]],\n",
              "\n",
              "\n",
              "       [[[ 8]]],\n",
              "\n",
              "\n",
              "       [[[ 9]]],\n",
              "\n",
              "\n",
              "       [[[10]]],\n",
              "\n",
              "\n",
              "       [[[11]]]])"
            ]
          },
          "metadata": {},
          "execution_count": 13
        }
      ]
    },
    {
      "cell_type": "code",
      "source": [
        "arr.reshape((3, -1))"
      ],
      "metadata": {
        "colab": {
          "base_uri": "https://localhost:8080/"
        },
        "id": "-3UTk0aZ44o8",
        "outputId": "332a2c72-7ab5-4c6f-9470-3581ddd7c7f9"
      },
      "execution_count": 7,
      "outputs": [
        {
          "output_type": "execute_result",
          "data": {
            "text/plain": [
              "array([[ 0,  1,  2,  3],\n",
              "       [ 4,  5,  6,  7],\n",
              "       [ 8,  9, 10, 11]])"
            ]
          },
          "metadata": {},
          "execution_count": 7
        }
      ]
    },
    {
      "cell_type": "code",
      "source": [
        "np.reshape(arr, (3,4))"
      ],
      "metadata": {
        "colab": {
          "base_uri": "https://localhost:8080/"
        },
        "id": "fHYtYodzDwUL",
        "outputId": "1ab25514-0e0f-4adf-ef26-d3ca299c8c31"
      },
      "execution_count": 73,
      "outputs": [
        {
          "output_type": "execute_result",
          "data": {
            "text/plain": [
              "array([[ 0,  1,  2,  3],\n",
              "       [ 4,  5,  6,  7],\n",
              "       [ 8,  9, 10, 11]])"
            ]
          },
          "metadata": {},
          "execution_count": 73
        }
      ]
    },
    {
      "cell_type": "code",
      "source": [
        "np.reshape(arr, (-1,2))"
      ],
      "metadata": {
        "colab": {
          "base_uri": "https://localhost:8080/"
        },
        "id": "wmG7YWMV5TD9",
        "outputId": "441d1ad1-b146-47cf-f219-7289875ed913"
      },
      "execution_count": 8,
      "outputs": [
        {
          "output_type": "execute_result",
          "data": {
            "text/plain": [
              "array([[ 0,  1],\n",
              "       [ 2,  3],\n",
              "       [ 4,  5],\n",
              "       [ 6,  7],\n",
              "       [ 8,  9],\n",
              "       [10, 11]])"
            ]
          },
          "metadata": {},
          "execution_count": 8
        }
      ]
    },
    {
      "cell_type": "code",
      "source": [
        "arr.reshape((2,6))"
      ],
      "metadata": {
        "colab": {
          "base_uri": "https://localhost:8080/"
        },
        "id": "o7neogQGD0cd",
        "outputId": "86d01fcd-30b9-46de-9453-af5751e67d8d"
      },
      "execution_count": 74,
      "outputs": [
        {
          "output_type": "execute_result",
          "data": {
            "text/plain": [
              "array([[ 0,  1,  2,  3,  4,  5],\n",
              "       [ 6,  7,  8,  9, 10, 11]])"
            ]
          },
          "metadata": {},
          "execution_count": 74
        }
      ]
    },
    {
      "cell_type": "code",
      "source": [
        "arr.reshape(2,6)"
      ],
      "metadata": {
        "colab": {
          "base_uri": "https://localhost:8080/"
        },
        "id": "CRmEtt4lODlM",
        "outputId": "4086849a-b578-47ce-b20f-c8d2f245c71f"
      },
      "execution_count": 117,
      "outputs": [
        {
          "output_type": "execute_result",
          "data": {
            "text/plain": [
              "array([[ 0,  1,  2,  3,  4,  5],\n",
              "       [ 6,  7,  8,  9, 10, 11]])"
            ]
          },
          "metadata": {},
          "execution_count": 117
        }
      ]
    },
    {
      "cell_type": "code",
      "source": [
        "arr.reshape(2,6, order='F')"
      ],
      "metadata": {
        "colab": {
          "base_uri": "https://localhost:8080/"
        },
        "id": "qBe7Td6UbWBj",
        "outputId": "d20d6103-5db1-46bf-8d4b-85f2f120bdc8"
      },
      "execution_count": 118,
      "outputs": [
        {
          "output_type": "execute_result",
          "data": {
            "text/plain": [
              "array([[ 0,  2,  4,  6,  8, 10],\n",
              "       [ 1,  3,  5,  7,  9, 11]])"
            ]
          },
          "metadata": {},
          "execution_count": 118
        }
      ]
    },
    {
      "cell_type": "code",
      "source": [
        "arr2 = arr.reshape(3,4)\n",
        "arr2"
      ],
      "metadata": {
        "colab": {
          "base_uri": "https://localhost:8080/"
        },
        "id": "7_Ses5W-OtNj",
        "outputId": "1ade9bfe-342e-4bfa-9866-186975e70a60"
      },
      "execution_count": 87,
      "outputs": [
        {
          "output_type": "execute_result",
          "data": {
            "text/plain": [
              "array([[ 0,  1,  2,  3],\n",
              "       [ 4,  5,  6,  7],\n",
              "       [ 8,  9, 10, 11]])"
            ]
          },
          "metadata": {},
          "execution_count": 87
        }
      ]
    },
    {
      "cell_type": "code",
      "source": [
        "arr.reshape(2,2,3)"
      ],
      "metadata": {
        "colab": {
          "base_uri": "https://localhost:8080/"
        },
        "id": "-WoXYlToUxXY",
        "outputId": "c02f90b7-f732-4bfa-aca4-300ba87199cb"
      },
      "execution_count": 116,
      "outputs": [
        {
          "output_type": "execute_result",
          "data": {
            "text/plain": [
              "array([[[ 0,  1,  2],\n",
              "        [ 3,  4,  5]],\n",
              "\n",
              "       [[ 6,  7,  8],\n",
              "        [ 9, 10, 11]]])"
            ]
          },
          "metadata": {},
          "execution_count": 116
        }
      ]
    },
    {
      "cell_type": "markdown",
      "source": [
        "Reshape은 특정 데이터의 구조를 변경하는 작업입니다. np.reshpae 함수로 구현되어 있습니다. \n",
        "<br>기존 데이터의 구조를 변경하는 작업입니다. 여기서 데이터 구조가 변경될 뿐, 데이터의 순서는 변경되지 않습니다."
      ],
      "metadata": {
        "id": "8_0VdP8gVC5r"
      }
    },
    {
      "cell_type": "markdown",
      "source": [
        "데이터가 분할되는 구조는 변경되지만, 데이터의 배열 순서는 변경되지 않음\n",
        "데이터 배치 순서는 변경하지 않고 데이터를 구분하는 블록 구조를 변경\n",
        "![img.png](data:image/png;base64,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)"
      ],
      "metadata": {
        "id": "8tx0L-zBVQhY"
      }
    },
    {
      "cell_type": "code",
      "source": [
        "arr2.reshape(-1)"
      ],
      "metadata": {
        "colab": {
          "base_uri": "https://localhost:8080/"
        },
        "id": "FboMxfmGLTml",
        "outputId": "33727b24-457a-4725-f448-d9b15ac6b96b"
      },
      "execution_count": 77,
      "outputs": [
        {
          "output_type": "execute_result",
          "data": {
            "text/plain": [
              "array([ 0,  1,  2,  3,  4,  5,  6,  7,  8,  9, 10, 11])"
            ]
          },
          "metadata": {},
          "execution_count": 77
        }
      ]
    },
    {
      "cell_type": "code",
      "source": [
        "arr2.flatten()"
      ],
      "metadata": {
        "colab": {
          "base_uri": "https://localhost:8080/"
        },
        "id": "JBgknacNOgdW",
        "outputId": "2e31d024-c38c-42f3-db2c-b47787e101f9"
      },
      "execution_count": 78,
      "outputs": [
        {
          "output_type": "execute_result",
          "data": {
            "text/plain": [
              "array([ 0,  1,  2,  3,  4,  5,  6,  7,  8,  9, 10, 11])"
            ]
          },
          "metadata": {},
          "execution_count": 78
        }
      ]
    },
    {
      "cell_type": "code",
      "source": [
        "arr2.flatten('C')"
      ],
      "metadata": {
        "colab": {
          "base_uri": "https://localhost:8080/"
        },
        "id": "P8Xt10Y0PANA",
        "outputId": "233dadbe-e779-40b6-c1a7-9645c699bbbd"
      },
      "execution_count": 79,
      "outputs": [
        {
          "output_type": "execute_result",
          "data": {
            "text/plain": [
              "array([ 0,  1,  2,  3,  4,  5,  6,  7,  8,  9, 10, 11])"
            ]
          },
          "metadata": {},
          "execution_count": 79
        }
      ]
    },
    {
      "cell_type": "code",
      "source": [
        "arr2.flatten('F')"
      ],
      "metadata": {
        "colab": {
          "base_uri": "https://localhost:8080/"
        },
        "id": "KIKQIYuPPCft",
        "outputId": "584cc036-f9e3-427a-8360-1cc76f6700ab"
      },
      "execution_count": 80,
      "outputs": [
        {
          "output_type": "execute_result",
          "data": {
            "text/plain": [
              "array([ 0,  4,  8,  1,  5,  9,  2,  6, 10,  3,  7, 11])"
            ]
          },
          "metadata": {},
          "execution_count": 80
        }
      ]
    },
    {
      "cell_type": "code",
      "source": [
        "arr2.ravel()"
      ],
      "metadata": {
        "colab": {
          "base_uri": "https://localhost:8080/"
        },
        "id": "YDfCWE9BPVUX",
        "outputId": "7e55b0a8-167a-4d0c-e6b0-01293076f18d"
      },
      "execution_count": 81,
      "outputs": [
        {
          "output_type": "execute_result",
          "data": {
            "text/plain": [
              "array([ 0,  1,  2,  3,  4,  5,  6,  7,  8,  9, 10, 11])"
            ]
          },
          "metadata": {},
          "execution_count": 81
        }
      ]
    },
    {
      "cell_type": "code",
      "source": [
        "arr = np.arange(12)\n",
        "arr2 = arr.reshape(3,4)\n"
      ],
      "metadata": {
        "id": "eUHmIocaQg2Z"
      },
      "execution_count": 98,
      "outputs": []
    },
    {
      "cell_type": "code",
      "source": [
        "arr"
      ],
      "metadata": {
        "colab": {
          "base_uri": "https://localhost:8080/"
        },
        "id": "Qd5JeilgRZgl",
        "outputId": "072c3e1a-ff30-4cd5-d5bf-30aa8f1aa946"
      },
      "execution_count": 99,
      "outputs": [
        {
          "output_type": "execute_result",
          "data": {
            "text/plain": [
              "array([ 0,  1,  2,  3,  4,  5,  6,  7,  8,  9, 10, 11])"
            ]
          },
          "metadata": {},
          "execution_count": 99
        }
      ]
    },
    {
      "cell_type": "code",
      "source": [
        "arr2"
      ],
      "metadata": {
        "colab": {
          "base_uri": "https://localhost:8080/"
        },
        "id": "mGwT70_jRaDz",
        "outputId": "52cd3ea8-ab69-4ec0-9eeb-dced1b759068"
      },
      "execution_count": 104,
      "outputs": [
        {
          "output_type": "execute_result",
          "data": {
            "text/plain": [
              "array([[ 0,  1,  2,  3],\n",
              "       [ 4,  5,  6,  7],\n",
              "       [ 8,  9, 10, 11]])"
            ]
          },
          "metadata": {},
          "execution_count": 104
        }
      ]
    },
    {
      "cell_type": "code",
      "source": [
        "b1 = arr2.ravel()   #  데이터 변경 없이 1차원 배열을 반환\n",
        "b2 = arr2.reshape(-1)  # 데이터 변경 없이 reshape (n,m) 형상만 변경 하여 반환\n",
        "b3 = arr2.flatten()   # 1차원 배열 복사본을 반환 함.원본 배열은 수정되지 않는다\n",
        "                      # flatten( )은 데이터의 copy를 생성하기 때문에, ravel( ) 보다 느리고, \n",
        "                      # 더 많은 메모리를 필요로 한다. \n",
        "                      #그러나 원본 데이터가 의도치 않게 변경되지 않도록 보호\n",
        "\n",
        "arr2[0][0] =  100"
      ],
      "metadata": {
        "id": "Ltl5YUNPP2L0"
      },
      "execution_count": 108,
      "outputs": []
    },
    {
      "cell_type": "code",
      "source": [
        "arr2"
      ],
      "metadata": {
        "colab": {
          "base_uri": "https://localhost:8080/"
        },
        "id": "Kqrkq21KQ_Cq",
        "outputId": "60f8ad4c-7b10-42c0-c85b-160d86166f1d"
      },
      "execution_count": 109,
      "outputs": [
        {
          "output_type": "execute_result",
          "data": {
            "text/plain": [
              "array([[100,   1,   2,   3],\n",
              "       [  4,   5,   6,   7],\n",
              "       [  8,   9,  10,  11]])"
            ]
          },
          "metadata": {},
          "execution_count": 109
        }
      ]
    },
    {
      "cell_type": "code",
      "source": [
        "arr"
      ],
      "metadata": {
        "colab": {
          "base_uri": "https://localhost:8080/"
        },
        "id": "RyJ4EAVkRAm_",
        "outputId": "45b04073-138a-415b-fd3d-e61728259c61"
      },
      "execution_count": 110,
      "outputs": [
        {
          "output_type": "execute_result",
          "data": {
            "text/plain": [
              "array([100,   1,   2,   3,   4,   5,   6,   7,   8,   9,  10,  11])"
            ]
          },
          "metadata": {},
          "execution_count": 110
        }
      ]
    },
    {
      "cell_type": "code",
      "source": [
        "b1"
      ],
      "metadata": {
        "colab": {
          "base_uri": "https://localhost:8080/"
        },
        "id": "jFzbskoGQGDF",
        "outputId": "8e2a2f6a-c713-4f1d-c162-6afccb4ccd67"
      },
      "execution_count": 111,
      "outputs": [
        {
          "output_type": "execute_result",
          "data": {
            "text/plain": [
              "array([100,   1,   2,   3,   4,   5,   6,   7,   8,   9,  10,  11])"
            ]
          },
          "metadata": {},
          "execution_count": 111
        }
      ]
    },
    {
      "cell_type": "code",
      "source": [
        "b2"
      ],
      "metadata": {
        "colab": {
          "base_uri": "https://localhost:8080/"
        },
        "id": "BzLAgycZQIDn",
        "outputId": "ede71188-89c9-4a0e-c6d7-3e85404532c4"
      },
      "execution_count": 112,
      "outputs": [
        {
          "output_type": "execute_result",
          "data": {
            "text/plain": [
              "array([100,   1,   2,   3,   4,   5,   6,   7,   8,   9,  10,  11])"
            ]
          },
          "metadata": {},
          "execution_count": 112
        }
      ]
    },
    {
      "cell_type": "code",
      "source": [
        "b3"
      ],
      "metadata": {
        "colab": {
          "base_uri": "https://localhost:8080/"
        },
        "id": "YBdVfGx7QI0Z",
        "outputId": "e70d34c8-f079-43f0-bc5d-ffd30b492c92"
      },
      "execution_count": 113,
      "outputs": [
        {
          "output_type": "execute_result",
          "data": {
            "text/plain": [
              "array([ 0,  1,  2,  3,  4,  5,  6,  7,  8,  9, 10, 11])"
            ]
          },
          "metadata": {},
          "execution_count": 113
        }
      ]
    },
    {
      "cell_type": "code",
      "source": [
        ""
      ],
      "metadata": {
        "id": "06aw3XxTQJhN"
      },
      "execution_count": null,
      "outputs": []
    },
    {
      "cell_type": "code",
      "source": [
        "arr.reshape(3, -1)"
      ],
      "metadata": {
        "colab": {
          "base_uri": "https://localhost:8080/"
        },
        "id": "lDxVMQNPNTNe",
        "outputId": "fd44d96c-a67a-4da4-fdd4-96d5b83f160d"
      },
      "execution_count": 21,
      "outputs": [
        {
          "output_type": "execute_result",
          "data": {
            "text/plain": [
              "array([[ 0,  1,  2,  3],\n",
              "       [ 4,  5,  6,  7],\n",
              "       [ 8,  9, 10, 11]])"
            ]
          },
          "metadata": {},
          "execution_count": 21
        }
      ]
    },
    {
      "cell_type": "code",
      "source": [
        "arr.reshape(1, -1)"
      ],
      "metadata": {
        "colab": {
          "base_uri": "https://localhost:8080/"
        },
        "id": "Msr5wCYBNi8k",
        "outputId": "f683529d-ba78-45bb-9594-0899222ed069"
      },
      "execution_count": 26,
      "outputs": [
        {
          "output_type": "execute_result",
          "data": {
            "text/plain": [
              "array([[ 0,  1,  2,  3,  4,  5,  6,  7,  8,  9, 10, 11]])"
            ]
          },
          "metadata": {},
          "execution_count": 26
        }
      ]
    },
    {
      "cell_type": "markdown",
      "source": [
        "test\n"
      ],
      "metadata": {
        "id": "3jZ4wdlRFXWV"
      }
    }
  ]
}